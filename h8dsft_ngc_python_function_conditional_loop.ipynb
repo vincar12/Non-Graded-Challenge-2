{
 "cells": [
  {
   "cell_type": "markdown",
   "metadata": {},
   "source": [
    "Task #1 - Number of Word\n",
    "\n",
    "Create a function that count the number of word in a sentence.\n",
    "\n",
    "Instruction:\n",
    "1.Create function called `number_of_word`.\n",
    "2.This function takes 1 input, `sentence`.\n",
    "3.Inside this function, you can utilize `.split()` method to split the sentence into list of word(s).\n",
    "4.Also, `len()` function to count the element inside a list.\n",
    "5.Return the number of word from the sentence."
   ]
  },
  {
   "cell_type": "code",
   "execution_count": 1,
   "metadata": {},
   "outputs": [
    {
     "name": "stdout",
     "output_type": "stream",
     "text": [
      "4\n"
     ]
    }
   ],
   "source": [
    "def number_of_word(sentence):\n",
    "    word = sentence.split()\n",
    "    return len(word)\n",
    "\n",
    "print(number_of_word('what a lovely day'))"
   ]
  },
  {
   "cell_type": "markdown",
   "metadata": {},
   "source": [
    "Task #2 - Find Multiple\n",
    "\n",
    "Create a function that will get list of number(s) from a certain range that multiples of given number.\n",
    "\n",
    "Instruction:\n",
    "1.Create function called `find_multiples`.\n",
    "2.This function takes 3 input: `start_range`, `end_range`, and `multiple`.\n",
    "3.From every number within the given range, check if that number is the mutliples of `multiple`.\n",
    "4.Return list of the possible multiple number(s)."
   ]
  },
  {
   "cell_type": "code",
   "execution_count": 18,
   "metadata": {},
   "outputs": [
    {
     "data": {
      "text/plain": [
       "[5, 10, 15, 20]"
      ]
     },
     "execution_count": 18,
     "metadata": {},
     "output_type": "execute_result"
    }
   ],
   "source": [
    "#create function\n",
    "def find_multiple(start_range, end_range, multiple):\n",
    "    multiple_list = []\n",
    "\n",
    "    #cek setiap angka\n",
    "    for angka in range(start_range, end_range+1):\n",
    "        if angka % multiple == 0:\n",
    "            multiple_list.append(angka)\n",
    "\n",
    "    return multiple_list\n",
    "\n",
    "find_multiple(start_range= 1, end_range= 20, multiple= 5)"
   ]
  },
  {
   "cell_type": "markdown",
   "metadata": {},
   "source": [
    "Task #3 - Grade Converter\n",
    "\n",
    "Create a function that will convert student’s grade to GPA.\n",
    "\n",
    "Instruction:\n",
    "1.Create function called `Grade_Converter`.\n",
    "2.This function takes input: `convert_to` and n-paired of student(s) name with its respective score.\n",
    "3.Input argument for `convert_to` is either `letter_grade` or `gpa`.\n",
    "4.You can utilize **kwargs input argument to generate n-length paired of student(s) name with its respective score (Dictionary).\n",
    "5.This function will return dictionary of student’s name along with converted Letter Grade or GPA, depending on user input in `convert_to` parameter."
   ]
  },
  {
   "cell_type": "code",
   "execution_count": 39,
   "metadata": {},
   "outputs": [
    {
     "data": {
      "text/plain": [
       "{'Adam': 3.0, 'Faiz': 4.0}"
      ]
     },
     "execution_count": 39,
     "metadata": {},
     "output_type": "execute_result"
    }
   ],
   "source": [
    "def Grade_converter(convert_to, **report):\n",
    "    #cek nilai siswa satu satu\n",
    "    for student, grade in report.items():#items untuk key dan value\n",
    "         #check nilai\n",
    "         if grade > 85:\n",
    "            if convert_to == \"gpa\":\n",
    "                   report[student] = 4.0\n",
    "            else:\n",
    "                   report[student] = \"A\"\n",
    "         elif grade > 70:\n",
    "            if convert_to == \"gpa\":\n",
    "                   report[student] = 3.5\n",
    "            else:\n",
    "                   report[student] = \"B\"\n",
    "         elif grade > 60:\n",
    "            if convert_to == \"gpa\":\n",
    "                   report[student] = 3.0\n",
    "            else:\n",
    "                   report[student] = \"C\"\n",
    "         elif grade > 50:\n",
    "            if convert_to == \"gpa\":\n",
    "                   report[student] = 2.5\n",
    "            else:\n",
    "                   report[student] = \"D\"\n",
    "         elif grade > 40:\n",
    "            if convert_to == \"gpa\":\n",
    "                   report[student] = 2.0\n",
    "            else:\n",
    "                   report[student] = \"E\"\n",
    "         else:\n",
    "            if convert_to == \"gpa\":\n",
    "                   report[student] = 1.0\n",
    "            else:\n",
    "                   report[student] = \"F\"\n",
    "    return report            \n",
    "\n",
    "Grade_converter(convert_to='gpa', Adam=62, Faiz=91)"
   ]
  },
  {
   "cell_type": "code",
   "execution_count": null,
   "metadata": {},
   "outputs": [],
   "source": []
  }
 ],
 "metadata": {
  "kernelspec": {
   "display_name": "base",
   "language": "python",
   "name": "python3"
  },
  "language_info": {
   "codemirror_mode": {
    "name": "ipython",
    "version": 3
   },
   "file_extension": ".py",
   "mimetype": "text/x-python",
   "name": "python",
   "nbconvert_exporter": "python",
   "pygments_lexer": "ipython3",
   "version": "3.11.9"
  }
 },
 "nbformat": 4,
 "nbformat_minor": 2
}
